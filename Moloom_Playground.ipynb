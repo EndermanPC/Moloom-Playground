{
  "cells": [
    {
      "cell_type": "code",
      "execution_count": null,
      "metadata": {
        "id": "pMSxAY7z23CL"
      },
      "outputs": [],
      "source": [
        "!pip install torch>=2.0 transformers>=4.35.0 gradio>=4.13.0"
      ]
    },
    {
      "cell_type": "code",
      "execution_count": null,
      "metadata": {
        "id": "TR9Ra5Yy29A0"
      },
      "outputs": [],
      "source": [
        "import gradio as gr\n",
        "import torch\n",
        "from transformers import AutoModelForCausalLM, AutoTokenizer\n",
        "from transformers import StoppingCriteria, StoppingCriteriaList, TextIteratorStreamer, pipeline\n",
        "from threading import Thread\n",
        "\n",
        "# Loading the tokenizer and model from Hugging Face's model hub.\n",
        "tokenizer = AutoTokenizer.from_pretrained(\"Lithicsoft/Moloom-1.5\")\n",
        "model = AutoModelForCausalLM.from_pretrained(\"Lithicsoft/Moloom-1.5\")\n",
        "\n",
        "# using CUDA for an optimal experience\n",
        "device = torch.device('cuda' if torch.cuda.is_available() else 'cpu')\n",
        "model = model.to(device)"
      ]
    },
    {
      "cell_type": "code",
      "source": [
        "# Run text generation pipeline with our next model\n",
        "prompt = \"Who is Bill Gates?\"\n",
        "pipe = pipeline(task=\"text-generation\", model=model, tokenizer=tokenizer, max_length=200)\n",
        "result = pipe(f\"<s>[INST] {prompt} [/INST]\")\n",
        "print(result[0]['generated_text'])"
      ],
      "metadata": {
        "colab": {
          "base_uri": "https://localhost:8080/"
        },
        "id": "YUshiCMFQ6IZ",
        "outputId": "34ae2fd4-f014-4539-f13d-efc743d3c9c2"
      },
      "execution_count": null,
      "outputs": [
        {
          "output_type": "stream",
          "name": "stdout",
          "text": [
            "<s>[INST] Who is Bill Gates? [/INST] Bill Gates is a businessman and philanthropist who is best known for his role in the development of Microsoft. He is also the founder of the Bill & Melinda Gates Foundation, which is dedicated to improving the lives of people around the world. \n",
            "\n",
            "Bill Gates was born on October 28, 1955, in Seattle, Washington. He grew up in a middle-class family and attended public schools. He graduated from Harvard University with a degree in computer science in 1978. \n",
            "\n",
            "Bill Gates began his career as a software developer at Microsoft in 1975. He helped develop the company's first product, Microsoft DOS, and later became its president. In 1982, he founded the Microsoft Corporation, which became one of the world's largest software companies. \n",
            "\n",
            "Bill G\n"
          ]
        }
      ]
    }
  ],
  "metadata": {
    "accelerator": "GPU",
    "colab": {
      "gpuType": "T4",
      "provenance": [],
      "toc_visible": true
    },
    "kernelspec": {
      "display_name": "Python 3",
      "name": "python3"
    }
  },
  "nbformat": 4,
  "nbformat_minor": 0
}